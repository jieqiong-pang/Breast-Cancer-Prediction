{
 "cells": [
  {
   "cell_type": "markdown",
   "metadata": {},
   "source": [
    "# Breast Cancer Prediction"
   ]
  },
  {
   "cell_type": "markdown",
   "metadata": {},
   "source": [
    "## Import package"
   ]
  },
  {
   "cell_type": "code",
   "execution_count": null,
   "metadata": {},
   "outputs": [],
   "source": [
    "import warnings\n",
    "warnings.filterwarnings('ignore')\n",
    "import pandas as pd\n",
    "from sklearn import preprocessing \n",
    "from sklearn.model_selection import GridSearchCV\n",
    "from sklearn.svm import LinearSVC\n",
    "from sklearn.metrics import (accuracy_score,precision_score, recall_score, f1_score, roc_auc_score)\n",
    "import numpy as np\n",
    "from sklearn.metrics import confusion_matrix\n",
    "from sklearn.metrics import roc_curve, auc\n",
    "import matplotlib.pyplot as plt\n",
    "from sklearn.cluster import KMeans\n",
    "from scipy.spatial import distance\n",
    "from sklearn.cluster import SpectralClustering\n"
   ]
  },
  {
   "cell_type": "markdown",
   "metadata": {},
   "source": [
    "## Supervised, Semi-Supervised, and Unsupervised Learning"
   ]
  },
  {
   "cell_type": "markdown",
   "metadata": {
    "heading_collapsed": true
   },
   "source": [
    "### Data Preparation"
   ]
  },
  {
   "cell_type": "code",
   "execution_count": 2,
   "metadata": {
    "ExecuteTime": {
     "end_time": "2019-11-19T23:40:45.140720Z",
     "start_time": "2019-11-19T23:40:44.695819Z"
    },
    "hidden": true
   },
   "outputs": [],
   "source": [
    "columns_name=['ID','class','x1','x2','x3','x4','x5','x6','x7','x8','x9','x10','x11','x12','x13','x14','x15','x16','x17','x18','x19','x20','x21','x22','x23','x24','x25','x26','x27','x28','x29','x30']\n",
    "df=pd.read_csv('wdbc.data',names=columns_name)\n",
    "df[\"class\"] = df[\"class\"].replace({\"B\": 0, \"M\": 1})\n",
    "df_M=df[df[\"class\"] == 1].iloc[:round(len(df[df[\"class\"] == 1])*0.2)]\n",
    "df_B=df[df[\"class\"] == 0].iloc[:round(len(df[df[\"class\"] == 0])*0.2)]\n",
    "df_test= pd.concat([df_M, df_B], axis = 0)\n",
    "df_train=df.drop(index=df_test.index,axis=1)"
   ]
  },
  {
   "cell_type": "markdown",
   "metadata": {},
   "source": [
    "### Build model"
   ]
  },
  {
   "cell_type": "markdown",
   "metadata": {
    "heading_collapsed": true
   },
   "source": [
    "#### Supervised Learning"
   ]
  },
  {
   "cell_type": "code",
   "execution_count": 3,
   "metadata": {
    "ExecuteTime": {
     "end_time": "2019-11-19T23:41:00.944826Z",
     "start_time": "2019-11-19T23:40:48.487999Z"
    },
    "hidden": true
   },
   "outputs": [
    {
     "name": "stdout",
     "output_type": "stream",
     "text": [
      "normalized train best paramters: [{'C': 1000}, {'C': 1000}, {'C': 1000}, {'C': 1000}, {'C': 1000}, {'C': 1000}, {'C': 1000}, {'C': 1000}, {'C': 1000}, {'C': 1000}, {'C': 1000}, {'C': 1000}, {'C': 1000}, {'C': 100}, {'C': 1000}, {'C': 1000}, {'C': 1000}, {'C': 1000}, {'C': 100}, {'C': 1000}, {'C': 1000}, {'C': 100}, {'C': 1000}, {'C': 1000}, {'C': 1000}, {'C': 1000}, {'C': 1000}, {'C': 1000}, {'C': 1000}, {'C': 1000}]\n",
      "\n",
      "accuracy\n",
      "train average accuracy: 0.9674707602339179\n",
      "test average accuracy: 0.9530973451327432\n",
      "\n",
      "precision\n",
      "train average precision: 0.9595277816147672\n",
      "test average precision: 0.9480154445114739\n",
      "\n",
      "recall\n",
      "train average recall: 0.952941176470588\n",
      "test average recall: 0.926190476190476\n",
      "\n",
      "F-score\n",
      "train average F-score: 0.9561996625303014\n",
      "test average F-score: 0.9360677791142425\n",
      "\n",
      "AUC\n",
      "train average AUC: 0.9645242012889074\n",
      "test average AUC: 0.9476022803487594\n"
     ]
    }
   ],
   "source": [
    "train_accuarcy_ls=[]\n",
    "test_accuarcy_ls=[]\n",
    "train_precision_ls=[]\n",
    "test_precision_ls=[]\n",
    "train_recall_ls=[]\n",
    "test_recall_ls=[]\n",
    "train_F_score_ls=[]\n",
    "test_F_score_ls=[]\n",
    "train_AUC_ls=[]\n",
    "test_AUC_ls=[]\n",
    "normalized_train_best_params_ls=[]\n",
    "for i in range(30):\n",
    "    #randomly select data\n",
    "    test_M=df[df[\"class\"] == 1].sample(frac=0.2, replace=False, random_state=None)\n",
    "    test_B=df[df[\"class\"] == 0].sample(frac=0.2, replace=False, random_state=None)\n",
    "    \n",
    "    test= pd.concat([test_M, test_B], axis = 0)\n",
    "    train=df.drop(index=test.index,axis=0)\n",
    "    \n",
    "    #extract training and test data\n",
    "    x_train=train.iloc[:,2:32]\n",
    "    x_test=test.iloc[:,2:32]\n",
    "    y_train = train[[\"class\"]]\n",
    "    y_test=test[[\"class\"]]\n",
    "    \n",
    "    # normalized features\n",
    "    x_train_normalized = preprocessing.normalize(x_train, norm='l2')\n",
    "    x_train_normalized= pd.DataFrame(x_train_normalized)\n",
    "    x_train_normalized.columns=['x1','x2','x3','x4','x5','x6','x7','x8','x9','x10','x11','x12','x13','x14','x15','x16','x17','x18','x19','x20','x21','x22','x23','x24','x25','x26','x27','x28','x29','x30']\n",
    "    x_train_normalized.index=x_train.index\n",
    "    \n",
    "    x_test_normalized = preprocessing.normalize(x_test, norm='l2')\n",
    "    x_test_normalized= pd.DataFrame(x_test_normalized)\n",
    "    x_test_normalized.columns=['x1','x2','x3','x4','x5','x6','x7','x8','x9','x10','x11','x12','x13','x14','x15','x16','x17','x18','x19','x20','x21','x22','x23','x24','x25','x26','x27','x28','x29','x30']\n",
    "    x_test_normalized.index=x_test.index\n",
    "    \n",
    "    \n",
    "    parameters = {\"C\" : [0.001, 0.01, 0.1, 1, 10, 100, 1000]}\n",
    "    lsvc = GridSearchCV(LinearSVC(penalty = \"l1\", dual = False), param_grid=parameters, cv = 5)\n",
    "    normalized_train_model=lsvc.fit(x_train_normalized, y_train)\n",
    "    normalized_train_best_params=normalized_train_model.best_params_ \n",
    "    normalized_train_best_params_ls.append(normalized_train_best_params)\n",
    "    y_train_pred = normalized_train_model.predict(x_train_normalized)\n",
    "    y_test_pred = normalized_train_model.predict(x_test_normalized)\n",
    "    \n",
    "    #accuarcy\n",
    "    train_accuracy=accuracy_score(y_train,y_train_pred)\n",
    "    train_accuarcy_ls.append(train_accuracy)\n",
    "    test_accuracy=accuracy_score(y_test,y_test_pred)\n",
    "    test_accuarcy_ls.append(test_accuracy)\n",
    "    \n",
    "    #precision\n",
    "    train_precision=precision_score(y_train,y_train_pred)\n",
    "    train_precision_ls.append(train_precision)\n",
    "    test_precision=precision_score(y_test,y_test_pred)\n",
    "    test_precision_ls.append(test_precision)\n",
    "    \n",
    "    #recall\n",
    "    train_recall=recall_score(y_train,y_train_pred)\n",
    "    train_recall_ls.append(train_recall)\n",
    "    test_recall=recall_score(y_test,y_test_pred)\n",
    "    test_recall_ls.append(test_recall)\n",
    "    \n",
    "    #F-score\n",
    "    train_F_score=f1_score(y_train,y_train_pred)\n",
    "    train_F_score_ls.append(train_F_score)\n",
    "    test_F_score=f1_score(y_test,y_test_pred)\n",
    "    test_F_score_ls.append(test_F_score)\n",
    "    \n",
    "    #AUC\n",
    "    train_AUC=roc_auc_score(y_train,y_train_pred)\n",
    "    train_AUC_ls.append(train_AUC)\n",
    "    test_AUC=roc_auc_score(y_test,y_test_pred)\n",
    "    test_AUC_ls.append(test_AUC)\n",
    "    \n",
    "    \n",
    "print('normalized train best paramters:',normalized_train_best_params_ls)\n",
    "\n",
    "print('\\naccuracy')\n",
    "print('train average accuracy:',np.mean(train_accuarcy_ls))   \n",
    "print('test average accuracy:',np.mean(test_accuarcy_ls)) \n",
    "print('\\nprecision')\n",
    "print('train average precision:',np.mean(train_precision_ls))   \n",
    "print('test average precision:',np.mean(test_precision_ls))\n",
    "print('\\nrecall')\n",
    "print('train average recall:',np.mean(train_recall_ls))   \n",
    "print('test average recall:',np.mean(test_recall_ls))\n",
    "print('\\nF-score')\n",
    "print('train average F-score:',np.mean(train_F_score_ls))   \n",
    "print('test average F-score:',np.mean(test_F_score_ls))\n",
    "print('\\nAUC')\n",
    "print('train average AUC:',np.mean(train_AUC_ls))   \n",
    "print('test average AUC:',np.mean(test_AUC_ls))"
   ]
  },
  {
   "cell_type": "code",
   "execution_count": 5,
   "metadata": {
    "ExecuteTime": {
     "end_time": "2019-11-19T23:41:10.086419Z",
     "start_time": "2019-11-19T23:41:09.638328Z"
    },
    "hidden": true
   },
   "outputs": [
    {
     "name": "stdout",
     "output_type": "stream",
     "text": [
      "train confusion matrix:\n",
      " [[279   7]\n",
      " [  8 162]] \n",
      "\n"
     ]
    },
    {
     "data": {
      "image/png": "[encoded data removed]",
      "text/plain": [
       "<Figure size 432x288 with 1 Axes>"
      ]
     },
     "metadata": {
      "needs_background": "light"
     },
     "output_type": "display_data"
    },
    {
     "name": "stdout",
     "output_type": "stream",
     "text": [
      "test confusion matrix:\n",
      " [[68  3]\n",
      " [ 3 39]] \n",
      "\n"
     ]
    },
    {
     "data": {
      "image/png": "[encoded data removed]",
      "text/plain": [
       "<Figure size 432x288 with 1 Axes>"
      ]
     },
     "metadata": {
      "needs_background": "light"
     },
     "output_type": "display_data"
    }
   ],
   "source": [
    "#the confusion matrix on train data\n",
    "print('train confusion matrix:\\n',confusion_matrix(y_train,y_train_pred),'\\n')\n",
    "\n",
    "#show train ROC\n",
    "FP, TP, thresholds = roc_curve(y_train,y_train_pred)\n",
    "roc_auc = auc(FP, TP)\n",
    "\n",
    "plt.figure()\n",
    "plt.plot(FP, TP, lw=2,label='ROC curve (area = %0.2f)' % roc_auc)\n",
    "plt.plot([0, 1], [0, 1], lw=2)\n",
    "plt.xlim([0.0, 1.0])\n",
    "plt.ylim([0.0, 1.05])\n",
    "plt.xlabel('FP Rate')\n",
    "plt.ylabel('TP Rate')\n",
    "plt.title('train ROC')\n",
    "plt.legend(loc=\"lower right\")\n",
    "plt.show()\n",
    "\n",
    "#the confusion matrix on test data\n",
    "print('test confusion matrix:\\n',confusion_matrix(y_test,y_test_pred),'\\n')\n",
    "\n",
    "#show test ROC\n",
    "FP, TP, thresholds = roc_curve(y_test,y_test_pred)\n",
    "roc_auc = auc(FP, TP)\n",
    "\n",
    "plt.figure()\n",
    "plt.plot(FP, TP, lw=2,label='ROC curve (area = %0.2f)' % roc_auc)\n",
    "plt.plot([0, 1], [0, 1], lw=2)\n",
    "plt.xlim([0.0, 1.0])\n",
    "plt.ylim([0.0, 1.05])\n",
    "plt.xlabel('FP Rate')\n",
    "plt.ylabel('TP Rate')\n",
    "plt.title('test ROC')\n",
    "plt.legend(loc=\"lower right\")\n",
    "plt.show()"
   ]
  },
  {
   "cell_type": "markdown",
   "metadata": {},
   "source": [
    "#### Semi-Supervised Learning/Self-training"
   ]
  },
  {
   "cell_type": "markdown",
   "metadata": {
    "heading_collapsed": true
   },
   "source": [
    "##### Train an L1-penalized SVM to classify the labeled data"
   ]
  },
  {
   "cell_type": "code",
   "execution_count": 7,
   "metadata": {
    "ExecuteTime": {
     "end_time": "2019-11-19T23:41:55.770502Z",
     "start_time": "2019-11-19T23:41:48.838751Z"
    },
    "hidden": true
   },
   "outputs": [
    {
     "name": "stdout",
     "output_type": "stream",
     "text": [
      "normalized labeled best paramters: [{'C': 100}, {'C': 1}, {'C': 1000}, {'C': 1000}, {'C': 1000}, {'C': 1000}, {'C': 1000}, {'C': 1000}, {'C': 1000}, {'C': 100}, {'C': 100}, {'C': 1000}, {'C': 1000}, {'C': 1000}, {'C': 1000}, {'C': 1000}, {'C': 1000}, {'C': 1000}, {'C': 1000}, {'C': 1000}, {'C': 100}, {'C': 1000}, {'C': 1000}, {'C': 1000}, {'C': 100}, {'C': 1000}, {'C': 1000}, {'C': 1000}, {'C': 1000}, {'C': 1000}]\n"
     ]
    }
   ],
   "source": [
    "normalized_labeled_best_params_ls=[]\n",
    "for i in range(30):\n",
    "    #randomly select data\n",
    "    labeled_M=df_train[df_train[\"class\"] == 1].sample(frac=0.5, replace=False, random_state=None)\n",
    "    labeled_B=df_train[df_train[\"class\"] == 0].sample(frac=0.5, replace=False, random_state=None)\n",
    "    labeled_data= pd.concat([labeled_M, labeled_B], axis = 0)\n",
    "    unlabeled_data=df_train.drop(index=labeled_data.index,axis=0)\n",
    "    \n",
    "    #splict features and label\n",
    "    x_labeled_data=labeled_data.iloc[:,2:32]\n",
    "    y_labeled_data = labeled_data[[\"class\"]]\n",
    "    labeled_data = pd.concat([x_labeled_data, y_labeled_data], axis = 1)\n",
    "\n",
    "    # normalized features\n",
    "    x_labeled_normalized = preprocessing.normalize(x_labeled_data, norm='l2')\n",
    "    x_labeled_normalized= pd.DataFrame(x_labeled_normalized)\n",
    "    x_labeled_normalized.columns=['x1','x2','x3','x4','x5','x6','x7','x8','x9','x10','x11','x12','x13','x14','x15','x16','x17','x18','x19','x20','x21','x22','x23','x24','x25','x26','x27','x28','x29','x30']\n",
    "    x_labeled_normalized.index=x_labeled_data.index\n",
    "    labeled_normalized_data = pd.concat([x_labeled_normalized, y_labeled_data], axis = 1)\n",
    "\n",
    "    parameters = {\"C\" : [0.001, 0.01, 0.1, 1, 10, 100, 1000]}\n",
    "    labeled_lsvc = GridSearchCV(LinearSVC(penalty = \"l1\", dual = False), param_grid=parameters, cv = 5)\n",
    "    normalized_labeled_model=labeled_lsvc.fit(x_labeled_normalized,y_labeled_data)\n",
    "    normalized_labeled_best_params=normalized_labeled_model.best_params_ \n",
    "    normalized_labeled_best_params_ls.append(normalized_labeled_best_params)\n",
    "print('normalized labeled best paramters:',normalized_labeled_best_params_ls)\n",
    "    "
   ]
  },
  {
   "cell_type": "markdown",
   "metadata": {
    "heading_collapsed": true
   },
   "source": [
    "##### use SVM label unlabeled data, and add it to the labeled data, and retrain SVM.Test the final SVM on the test data"
   ]
  },
  {
   "cell_type": "code",
   "execution_count": 15,
   "metadata": {
    "ExecuteTime": {
     "end_time": "2019-11-10T05:32:53.470589Z",
     "start_time": "2019-11-10T05:32:53.458994Z"
    },
    "hidden": true
   },
   "outputs": [],
   "source": [
    "def unlabeled_estimate(x_labeled_normalized,y_labeled_data,x_unlabeled_normalized,y_unlabeled_data):\n",
    "    new_labeled_data=pd.concat([x_labeled_normalized,y_labeled_data],axis=1)\n",
    "\n",
    "    for i in range(len(x_unlabeled_normalized)):\n",
    "        #train model\n",
    "        parameters = {\"C\" : [0.001, 0.01, 0.1, 1, 10, 100, 1000]}\n",
    "        labeled_lsvc = GridSearchCV(LinearSVC(penalty = \"l1\", dual = False), param_grid=parameters, cv = 5)\n",
    "        normalized_labeled_model=labeled_lsvc.fit(x_labeled_normalized,y_labeled_data)\n",
    "\n",
    "        # x_unlabeled_normalized_with_dist\n",
    "        data_distance=normalized_labeled_model.decision_function(x_unlabeled_normalized)\n",
    "        data_distance = pd.DataFrame(data_distance, columns = [\"distance\"], index = x_unlabeled_data.index)\n",
    "        data_distance[\"distance\"].map(lambda x: abs(x))\n",
    "        x_unlabeled_normalized_with_dist = pd.concat([data_distance, x_unlabeled_normalized], axis = 1)\n",
    "        x_unlabeled_normalized_with_dist[\"distance_abs\"] = x_unlabeled_normalized_with_dist[\"distance\"].map(lambda x: abs(x))\n",
    "\n",
    "        # sort x_unlabeled_normalized_with_dist\n",
    "        x_unlabeled_normalized_with_dist=x_unlabeled_normalized_with_dist.sort_values(by=\"distance_abs\" , ascending=False)\n",
    "        x_unlabeled_normalized_with_dist.drop(['distance_abs'],axis=1)\n",
    "\n",
    "        # extract farest data\n",
    "        farthest_unlabeled_data = x_unlabeled_normalized_with_dist[x_unlabeled_normalized.columns].head(1)\n",
    "\n",
    "        if float(x_unlabeled_normalized_with_dist.head(1)[\"distance\"]) > 0:\n",
    "            farthest_unlabeled_data[\"class\"] = 1 \n",
    "        else:\n",
    "            farthest_unlabeled_data[\"class\"] = 0\n",
    "\n",
    "        # put the labeled test data into training set\n",
    "        new_labeled_data = labeled_normalized_data.append(farthest_unlabeled_data)  # append one new row\n",
    "        \n",
    "        #extract new x and new y\n",
    "        x_new_labeled_data=new_labeled_data.iloc[:,:-1]\n",
    "        y_new_labeled_data=new_labeled_data['class']\n",
    "        \n",
    "        #drop the farthest unlabeled data from unlabeled data set\n",
    "        x_unlabeled_normalized_with_dist.drop(x_unlabeled_normalized_with_dist.head(1).index,axis=0)\n",
    "        \n",
    "    return normalized_labeled_model"
   ]
  },
  {
   "cell_type": "code",
   "execution_count": 16,
   "metadata": {
    "ExecuteTime": {
     "end_time": "2019-11-10T06:00:46.473694Z",
     "start_time": "2019-11-10T05:32:57.649660Z"
    },
    "hidden": true
   },
   "outputs": [
    {
     "name": "stdout",
     "output_type": "stream",
     "text": [
      "\n",
      "accuracy\n",
      "train average accuracy: 0.9650584795321635\n",
      "test average accuracy: 0.9752212389380531\n",
      "\n",
      "precision\n",
      "train average precision: 0.959544381598386\n",
      "test average precision: 0.9807828274958167\n",
      "\n",
      "recall\n",
      "train average recall: 0.9462745098039215\n",
      "test average recall: 0.9523809523809522\n",
      "\n",
      "F-score\n",
      "train average F-score: 0.952781514283299\n",
      "test average F-score: 0.9661697634017515\n",
      "\n",
      "AUC\n",
      "train average AUC: 0.9612491430138488\n",
      "test average AUC: 0.9705566733735747\n"
     ]
    }
   ],
   "source": [
    "train_accuarcy_ls=[]\n",
    "test_accuarcy_ls=[]\n",
    "train_precision_ls=[]\n",
    "test_precision_ls=[]\n",
    "train_recall_ls=[]\n",
    "test_recall_ls=[]\n",
    "train_F_score_ls=[]\n",
    "test_F_score_ls=[]\n",
    "train_AUC_ls=[]\n",
    "test_AUC_ls=[]\n",
    "for i in range(30):\n",
    "    labeled_M=df_train[df_train[\"class\"] == 1].sample(frac=0.5, replace=False, random_state=None)\n",
    "    labeled_B=df_train[df_train[\"class\"] == 0].sample(frac=0.5, replace=False, random_state=None)\n",
    "    labeled_data= pd.concat([labeled_M, labeled_B], axis = 0)\n",
    "    unlabeled_data=df_train.drop(index=labeled_data.index,axis=0)\n",
    "    \n",
    "    #labeled\n",
    "    #splict features and label\n",
    "    x_labeled_data=labeled_data.iloc[:,2:32]\n",
    "    y_labeled_data = labeled_data[[\"class\"]]\n",
    "    labeled_data = pd.concat([x_labeled_data, y_labeled_data], axis = 1)\n",
    "\n",
    "    # normalized features\n",
    "    x_labeled_normalized = preprocessing.normalize(x_labeled_data, norm='l2')\n",
    "    x_labeled_normalized= pd.DataFrame(x_labeled_normalized)\n",
    "    x_labeled_normalized.columns=['x1','x2','x3','x4','x5','x6','x7','x8','x9','x10','x11','x12','x13','x14','x15','x16','x17','x18','x19','x20','x21','x22','x23','x24','x25','x26','x27','x28','x29','x30']\n",
    "    x_labeled_normalized.index=x_labeled_data.index\n",
    "    labeled_normalized_data = pd.concat([x_labeled_normalized, y_labeled_data], axis = 1)\n",
    "    \n",
    "    #unlabeled\n",
    "    #splict features and label\n",
    "    x_unlabeled_data=unlabeled_data.iloc[:,2:32]\n",
    "    y_unlabeled_data =unlabeled_data[[\"class\"]]\n",
    "\n",
    "    # normalized features\n",
    "    x_unlabeled_normalized = preprocessing.normalize(x_unlabeled_data, norm='l2')\n",
    "    x_unlabeled_normalized= pd.DataFrame(x_unlabeled_normalized)\n",
    "    x_unlabeled_normalized.columns=['x1','x2','x3','x4','x5','x6','x7','x8','x9','x10','x11','x12','x13','x14','x15','x16','x17','x18','x19','x20','x21','x22','x23','x24','x25','x26','x27','x28','x29','x30']\n",
    "    x_unlabeled_normalized.index=x_unlabeled_data.index\n",
    "    \n",
    "    model=unlabeled_estimate(x_labeled_normalized=x_labeled_normalized,\n",
    "                             y_labeled_data=y_labeled_data,\n",
    "                             x_unlabeled_normalized=x_unlabeled_normalized,\n",
    "                             y_unlabeled_data=y_unlabeled_data)\n",
    "\n",
    "    \n",
    "    y_train_pred= model.predict(x_labeled_normalized)\n",
    "    y_test_pred = model.predict(x_test_normalized)\n",
    "    \n",
    "    \n",
    "    #accuarcy\n",
    "    train_accuracy=accuracy_score(y_labeled_data,y_train_pred)\n",
    "    train_accuarcy_ls.append(train_accuracy)\n",
    "    test_accuracy=accuracy_score(y_test,y_test_pred)\n",
    "    test_accuarcy_ls.append(test_accuracy)\n",
    "    \n",
    "    #precision\n",
    "    train_precision=precision_score(y_labeled_data,y_train_pred)\n",
    "    train_precision_ls.append(train_precision)\n",
    "    test_precision=precision_score(y_test,y_test_pred)\n",
    "    test_precision_ls.append(test_precision)\n",
    "    \n",
    "    #recall\n",
    "    train_recall=recall_score(y_labeled_data,y_train_pred)\n",
    "    train_recall_ls.append(train_recall)\n",
    "    test_recall=recall_score(y_test,y_test_pred)\n",
    "    test_recall_ls.append(test_recall)\n",
    "    \n",
    "    #F-score\n",
    "    train_F_score=f1_score(y_labeled_data,y_train_pred)\n",
    "    train_F_score_ls.append(train_F_score)\n",
    "    test_F_score=f1_score(y_test,y_test_pred)\n",
    "    test_F_score_ls.append(test_F_score)\n",
    "    \n",
    "    #AUC\n",
    "    train_AUC=roc_auc_score(y_labeled_data,y_train_pred)\n",
    "    train_AUC_ls.append(train_AUC)\n",
    "    test_AUC=roc_auc_score(y_test,y_test_pred)\n",
    "    test_AUC_ls.append(test_AUC)\n",
    "    \n",
    "\n",
    "print('\\naccuracy')\n",
    "print('train average accuracy:',np.mean(train_accuarcy_ls))   \n",
    "print('test average accuracy:',np.mean(test_accuarcy_ls)) \n",
    "print('\\nprecision')\n",
    "print('train average precision:',np.mean(train_precision_ls))   \n",
    "print('test average precision:',np.mean(test_precision_ls))\n",
    "print('\\nrecall')\n",
    "print('train average recall:',np.mean(train_recall_ls))   \n",
    "print('test average recall:',np.mean(test_recall_ls))\n",
    "print('\\nF-score')\n",
    "print('train average F-score:',np.mean(train_F_score_ls))   \n",
    "print('test average F-score:',np.mean(test_F_score_ls))\n",
    "print('\\nAUC')\n",
    "print('train average AUC:',np.mean(train_AUC_ls))   \n",
    "print('test average AUC:',np.mean(test_AUC_ls))\n"
   ]
  },
  {
   "cell_type": "code",
   "execution_count": 17,
   "metadata": {
    "ExecuteTime": {
     "end_time": "2019-11-10T06:41:43.640809Z",
     "start_time": "2019-11-10T06:41:43.333832Z"
    },
    "hidden": true
   },
   "outputs": [
    {
     "name": "stdout",
     "output_type": "stream",
     "text": [
      "train confusion matrix:\n",
      " [[139   4]\n",
      " [  5  80]] \n",
      "\n"
     ]
    },
    {
     "data": {
      "image/png": "[encoded data removed]",
      "text/plain": [
       "<Figure size 432x288 with 1 Axes>"
      ]
     },
     "metadata": {
      "needs_background": "light"
     },
     "output_type": "display_data"
    },
    {
     "name": "stdout",
     "output_type": "stream",
     "text": [
      "test confusion matrix:\n",
      " [[70  1]\n",
      " [ 1 41]] \n",
      "\n"
     ]
    },
    {
     "data": {
      "image/png": "[encoded data removed]",
      "text/plain": [
       "<Figure size 432x288 with 1 Axes>"
      ]
     },
     "metadata": {
      "needs_background": "light"
     },
     "output_type": "display_data"
    }
   ],
   "source": [
    "#the confusion matrix on train data\n",
    "print('train confusion matrix:\\n',confusion_matrix(y_labeled_data,y_train_pred),'\\n')\n",
    "\n",
    "#show train ROC\n",
    "FP, TP, thresholds = roc_curve(y_labeled_data,y_train_pred)\n",
    "roc_auc = auc(FP, TP)\n",
    "\n",
    "plt.figure()\n",
    "plt.plot(FP, TP, lw=2,label='ROC curve (area = %0.2f)' % roc_auc)\n",
    "plt.plot([0, 1], [0, 1], lw=2)\n",
    "plt.xlim([0.0, 1.0])\n",
    "plt.ylim([0.0, 1.05])\n",
    "plt.xlabel('FP Rate')\n",
    "plt.ylabel('TP Rate')\n",
    "plt.title('train ROC')\n",
    "plt.legend(loc=\"lower right\")\n",
    "plt.show()\n",
    "\n",
    "#the confusion matrix on test data\n",
    "print('test confusion matrix:\\n',confusion_matrix(y_test,y_test_pred),'\\n')\n",
    "\n",
    "#show test ROC\n",
    "FP, TP, thresholds = roc_curve(y_test,y_test_pred)\n",
    "roc_auc = auc(FP, TP)\n",
    "\n",
    "plt.figure()\n",
    "plt.plot(FP, TP, lw=2,label='ROC curve (area = %0.2f)' % roc_auc)\n",
    "plt.plot([0, 1], [0, 1], lw=2)\n",
    "plt.xlim([0.0, 1.0])\n",
    "plt.ylim([0.0, 1.05])\n",
    "plt.xlabel('FP Rate')\n",
    "plt.ylabel('TP Rate')\n",
    "plt.title('test ROC')\n",
    "plt.legend(loc=\"lower right\")\n",
    "plt.show()"
   ]
  },
  {
   "cell_type": "markdown",
   "metadata": {},
   "source": [
    "#### Unsupervised Learning"
   ]
  },
  {
   "cell_type": "markdown",
   "metadata": {},
   "source": [
    "<font color=black size=3 face=雅黑>(A)We can run K-means multiple times to make sure the algorithm is not trapped in a loacal minimum, setting n_init = 100. According to the documentation for KMeans, the final results will be the best output of n_init consecutive runs in terms of inertia. If we run it k^n times and choosing the best out of those, we would be guaranteed to find the global minimum, but that would be really time consuming. Therefore, increasing n_init can help avoiding falling into local minimum.</font>"
   ]
  },
  {
   "cell_type": "markdown",
   "metadata": {
    "heading_collapsed": true
   },
   "source": [
    "##### k-means predict label"
   ]
  },
  {
   "cell_type": "code",
   "execution_count": 431,
   "metadata": {
    "ExecuteTime": {
     "end_time": "2019-11-12T05:12:42.381714Z",
     "start_time": "2019-11-12T05:12:33.835075Z"
    },
    "hidden": true
   },
   "outputs": [
    {
     "name": "stdout",
     "output_type": "stream",
     "text": [
      "\n",
      "accuracy\n",
      "train average accuracy: 0.8875730994152048\n",
      "\n",
      "precision\n",
      "train average precision: 0.9641199114416589\n",
      "\n",
      "recall\n",
      "train average recall: 0.7288235294117649\n",
      "\n",
      "F-score\n",
      "train average F-score: 0.829822156718542\n",
      "\n",
      "AUC\n",
      "train average AUC: 0.8563115316056494\n"
     ]
    }
   ],
   "source": [
    "train_accuarcy_ls=[]\n",
    "train_precision_ls=[]\n",
    "train_recall_ls=[]\n",
    "train_F_score_ls=[]\n",
    "train_AUC_ls=[]\n",
    "for i in range(30):\n",
    "    #randomly select data\n",
    "    test_M=df[df[\"class\"] == 1].sample(frac=0.2, replace=False, random_state=None)\n",
    "    test_B=df[df[\"class\"] == 0].sample(frac=0.2, replace=False, random_state=None)\n",
    "    \n",
    "    test= pd.concat([test_M, test_B], axis = 0)\n",
    "    train=df.drop(index=test.index,axis=0)\n",
    "    \n",
    "    #extract training data\n",
    "    x_train=train.iloc[:,2:32]\n",
    "    y_train = train[[\"class\"]]\n",
    "    \n",
    "    # normalized features\n",
    "    x_train_normalized = preprocessing.normalize(x_train, norm='l2')\n",
    "    x_train_normalized= pd.DataFrame(x_train_normalized)\n",
    "    x_train_normalized.columns=['x1','x2','x3','x4','x5','x6','x7','x8','x9','x10','x11','x12','x13','x14','x15','x16','x17','x18','x19','x20','x21','x22','x23','x24','x25','x26','x27','x28','x29','x30']\n",
    "    x_train_normalized.index=x_train.index\n",
    "\n",
    "    \n",
    "    #k-means algorithm\n",
    "    kmeans = KMeans(n_clusters = 2, init = \"random\", n_init = 100)\n",
    "    model=kmeans.fit(x_train_normalized)    \n",
    "    centers=kmeans.cluster_centers_\n",
    "\n",
    "    distance_ls_0=[]\n",
    "    distance_ls_1=[]\n",
    "    for i in range(len(x_train_normalized)):    \n",
    "        distance_ls_0.append(distance.euclidean(kmeans.cluster_centers_[0],x_train_normalized.iloc[i].tolist()))\n",
    "        distance_ls_1.append(distance.euclidean(kmeans.cluster_centers_[1],x_train_normalized.iloc[i].tolist()))\n",
    "\n",
    "    new_0=x_train_normalized.copy()\n",
    "    new_0['true_class']=kmeans.labels_\n",
    "    new_1=x_train_normalized.copy()\n",
    "    new_1['true_class']=kmeans.labels_\n",
    "    new_0[\"distance_0\"]=distance_ls_0\n",
    "    new_1[\"distance_1\"]=distance_ls_1\n",
    "    closest_new_0=new_0.sort_values(by=['distance_0'],ascending = True).iloc[:30]\n",
    "    closest_new_1=new_1.sort_values(by=['distance_1'],ascending = True).iloc[:30]\n",
    "    majority_0=closest_new_0['true_class'].value_counts().index[0]\n",
    "    majority_1=closest_new_1['true_class'].value_counts().index[0]\n",
    "    majority_0\n",
    "\n",
    "    cluster_train_df = x_train_normalized.copy()\n",
    "    cluster_train_df['cluster'] = kmeans.labels_\n",
    "    cluster_train_df['Pred'] = cluster_train_df.apply(lambda x: majority_0 if x['cluster'] == 0 \\\n",
    "                                                                  else majority_1, axis=1)\n",
    "    y_train_predict=cluster_train_df['Pred']\n",
    "\n",
    "    #accuarcy\n",
    "    train_accuracy=accuracy_score(y_train,y_train_predict)\n",
    "    if train_accuracy<0.5:\n",
    "        y_train_predict=1-y_train_predict\n",
    "        train_accuracy=accuracy_score(y_train,y_train_predict)\n",
    "        train_precision=precision_score(y_train,y_train_predict)\n",
    "        train_recall=recall_score(y_train,y_train_predict)\n",
    "        train_F_score=f1_score(y_train,y_train_predict)\n",
    "        train_AUC=roc_auc_score(y_train,y_train_predict)\n",
    "    \n",
    "    train_accuarcy_ls.append(train_accuracy)\n",
    "\n",
    "    #precision\n",
    "    train_precision_ls.append(train_precision)\n",
    "   \n",
    "    #recall\n",
    "    train_recall_ls.append(train_recall)\n",
    "\n",
    "    #F-score\n",
    "    train_F_score_ls.append(train_F_score)\n",
    "    \n",
    "    #AUC\n",
    "    train_AUC_ls.append(train_AUC)\n",
    "\n",
    "\n",
    "print('\\naccuracy')\n",
    "print('train average accuracy:',np.mean(train_accuarcy_ls))   \n",
    "    \n",
    "print('\\nprecision')\n",
    "print('train average precision:',np.mean(train_precision_ls))   \n",
    "    \n",
    "print('\\nrecall')\n",
    "print('train average recall:',np.mean(train_recall_ls))   \n",
    "    \n",
    "print('\\nF-score')\n",
    "print('train average F-score:',np.mean(train_F_score_ls))   \n",
    "    \n",
    "print('\\nAUC')\n",
    "print('train average AUC:',np.mean(train_AUC_ls))   "
   ]
  },
  {
   "cell_type": "code",
   "execution_count": 313,
   "metadata": {
    "ExecuteTime": {
     "end_time": "2019-11-12T03:43:43.532976Z",
     "start_time": "2019-11-12T03:43:43.378633Z"
    },
    "hidden": true
   },
   "outputs": [
    {
     "name": "stdout",
     "output_type": "stream",
     "text": [
      "train confusion matrix:\n",
      " [[278   8]\n",
      " [ 41 129]] \n",
      "\n"
     ]
    },
    {
     "data": {
      "image/png": "[encoded data removed]",
      "text/plain": [
       "<Figure size 432x288 with 1 Axes>"
      ]
     },
     "metadata": {
      "needs_background": "light"
     },
     "output_type": "display_data"
    }
   ],
   "source": [
    "#the confusion matrix on train data\n",
    "print('train confusion matrix:\\n',confusion_matrix(y_train,y_train_predict),'\\n')\n",
    "\n",
    "#show train ROC\n",
    "FP, TP, thresholds = roc_curve(y_train,y_train_predict)\n",
    "roc_auc = auc(FP, TP)\n",
    "\n",
    "plt.figure()\n",
    "plt.plot(FP, TP, lw=2,label='ROC curve (area = %0.2f)' % roc_auc)\n",
    "plt.plot([0, 1], [0, 1], lw=2)\n",
    "plt.xlim([0.0, 1.0])\n",
    "plt.ylim([0.0, 1.05])\n",
    "plt.xlabel('FP Rate')\n",
    "plt.ylabel('TP Rate')\n",
    "plt.title('train ROC')\n",
    "plt.legend(loc=\"lower right\")\n",
    "plt.show()\n"
   ]
  },
  {
   "cell_type": "markdown",
   "metadata": {
    "heading_collapsed": true
   },
   "source": [
    "##### Classify test data"
   ]
  },
  {
   "cell_type": "code",
   "execution_count": 427,
   "metadata": {
    "ExecuteTime": {
     "end_time": "2019-11-12T05:07:43.703362Z",
     "start_time": "2019-11-12T05:07:39.267449Z"
    },
    "hidden": true,
    "scrolled": true
   },
   "outputs": [
    {
     "name": "stdout",
     "output_type": "stream",
     "text": [
      "\n",
      "accuracy\n",
      "test average accuracy: 0.876991150442478\n",
      "\n",
      "precision\n",
      "test average precision: 0.8385466890276327\n",
      "\n",
      "recall\n",
      "test average recall: 0.6333333333333334\n",
      "\n",
      "F-score\n",
      "test average F-score: 0.7140937697294018\n",
      "\n",
      "AUC\n",
      "test average AUC: 0.8409121395036888\n"
     ]
    }
   ],
   "source": [
    "test_accuarcy_ls=[]\n",
    "test_precision_ls=[]\n",
    "test_recall_ls=[]\n",
    "test_F_score_ls=[]\n",
    "test_AUC_ls=[]\n",
    "for i in range(30):\n",
    "    #randomly select data\n",
    "    test_M=df[df[\"class\"] == 1].sample(frac=0.2, replace=False, random_state=None)\n",
    "    test_B=df[df[\"class\"] == 0].sample(frac=0.2, replace=False, random_state=None)\n",
    "    \n",
    "    test= pd.concat([test_M, test_B], axis = 0)\n",
    "    \n",
    "    #extract test data\n",
    "    x_test=test.iloc[:,2:32]\n",
    "    y_test=test[[\"class\"]]\n",
    "    \n",
    "    # normalized features      \n",
    "    x_test_normalized = preprocessing.normalize(x_test, norm='l2')\n",
    "    x_test_normalized= pd.DataFrame(x_test_normalized)\n",
    "    x_test_normalized.columns=['x1','x2','x3','x4','x5','x6','x7','x8','x9','x10','x11','x12','x13','x14','x15','x16','x17','x18','x19','x20','x21','x22','x23','x24','x25','x26','x27','x28','x29','x30']\n",
    "    x_test_normalized.index=x_test.index\n",
    "\n",
    "    \n",
    "    #k-means algorithm\n",
    "    kmeans = KMeans(n_clusters = 2, init = \"random\", n_init = 100)\n",
    "    model=kmeans.fit(x_test_normalized)    \n",
    "    centers=kmeans.cluster_centers_\n",
    "\n",
    "    distance_ls_0=[]\n",
    "    distance_ls_1=[]\n",
    "    for i in range(len(x_test_normalized)):    \n",
    "        distance_ls_0.append(distance.euclidean(kmeans.cluster_centers_[0],x_test_normalized.iloc[i].tolist()))\n",
    "        distance_ls_1.append(distance.euclidean(kmeans.cluster_centers_[1],x_test_normalized.iloc[i].tolist()))\n",
    "\n",
    "    new_0=x_test_normalized.copy()\n",
    "    new_0['true_class']=kmeans.labels_\n",
    "    new_1=x_test_normalized.copy()\n",
    "    new_1['true_class']=kmeans.labels_\n",
    "    new_0[\"distance_0\"]=distance_ls_0\n",
    "    new_1[\"distance_1\"]=distance_ls_1\n",
    "    closest_new_0=new_0.sort_values(by=['distance_0'],ascending = True).iloc[:30]\n",
    "    closest_new_1=new_1.sort_values(by=['distance_1'],ascending = True).iloc[:30]\n",
    "    majority_0=closest_new_0['true_class'].value_counts().index[0]\n",
    "    majority_1=closest_new_1['true_class'].value_counts().index[0]\n",
    "\n",
    "    cluster_test_df = x_test_normalized.copy()\n",
    "    cluster_test_df[\"distance_0\"]=distance_ls_0\n",
    "    cluster_test_df[\"distance_1\"]=distance_ls_1\n",
    "    cluster_test_df['Pred'] = cluster_test_df.apply(lambda x: majority_0 if x[\"distance_0\"] > x[\"distance_1\"] \\\n",
    "                                                                  else majority_1, axis=1)\n",
    "    y_test_predict=cluster_test_df['Pred']\n",
    "\n",
    "    #accuarcy\n",
    "    test_accuracy=accuracy_score(y_test,y_test_predict)\n",
    "    if test_accuracy<0.5:\n",
    "        y_test_predict=1-y_test_predict\n",
    "        test_accuracy=accuracy_score(y_test,y_test_predict)\n",
    "        test_precision=precision_score(y_test,y_test_predict)\n",
    "        test_recall=recall_score(y_test,y_test_predict)\n",
    "        test_F_score=f1_score(y_test,y_test_predict)\n",
    "        test_AUC=roc_auc_score(y_test,y_test_predict)\n",
    "    test_accuarcy_ls.append(test_accuracy)\n",
    "\n",
    "    #precision\n",
    "    test_precision_ls.append(test_precision)\n",
    "   \n",
    "    #recall\n",
    "    test_recall_ls.append(test_recall)\n",
    "\n",
    "    #F-score\n",
    "    test_F_score_ls.append(test_F_score)\n",
    "    \n",
    "    #AUC\n",
    "    test_AUC_ls.append(test_AUC)\n",
    "\n",
    "\n",
    "print('\\naccuracy')\n",
    "print('test average accuracy:',np.mean(test_accuarcy_ls))   \n",
    "    \n",
    "print('\\nprecision')\n",
    "print('test average precision:',np.mean(test_precision_ls))   \n",
    "    \n",
    "print('\\nrecall')\n",
    "print('test average recall:',np.mean(test_recall_ls))   \n",
    "    \n",
    "print('\\nF-score')\n",
    "print('test average F-score:',np.mean(test_F_score_ls))   \n",
    "    \n",
    "print('\\nAUC')\n",
    "print('test average AUC:',np.mean(test_AUC_ls))   "
   ]
  },
  {
   "cell_type": "code",
   "execution_count": 435,
   "metadata": {
    "ExecuteTime": {
     "end_time": "2019-11-12T05:14:17.648247Z",
     "start_time": "2019-11-12T05:14:17.503484Z"
    },
    "hidden": true
   },
   "outputs": [
    {
     "name": "stdout",
     "output_type": "stream",
     "text": [
      "test confusion matrix:\n",
      " [[71  0]\n",
      " [10 32]] \n",
      "\n"
     ]
    },
    {
     "data": {
      "image/png": "[encoded data removed]",
      "text/plain": [
       "<Figure size 432x288 with 1 Axes>"
      ]
     },
     "metadata": {
      "needs_background": "light"
     },
     "output_type": "display_data"
    }
   ],
   "source": [
    "#the confusion matrix on test data\n",
    "print('test confusion matrix:\\n',confusion_matrix(y_test,y_test_predict),'\\n')\n",
    "\n",
    "#show test ROC\n",
    "FP, TP, thresholds = roc_curve(y_test,y_test_predict)\n",
    "roc_auc = auc(FP, TP)\n",
    "\n",
    "plt.figure()\n",
    "plt.plot(FP, TP, lw=2,label='ROC curve (area = %0.2f)' % roc_auc)\n",
    "plt.plot([0, 1], [0, 1], lw=2)\n",
    "plt.xlim([0.0, 1.0])\n",
    "plt.ylim([0.0, 1.05])\n",
    "plt.xlabel('FP Rate')\n",
    "plt.ylabel('TP Rate')\n",
    "plt.title('test ROC')\n",
    "plt.legend(loc=\"lower right\")\n",
    "plt.show()"
   ]
  },
  {
   "cell_type": "markdown",
   "metadata": {},
   "source": [
    "#### Spectral Clustering"
   ]
  },
  {
   "cell_type": "code",
   "execution_count": 448,
   "metadata": {
    "ExecuteTime": {
     "end_time": "2019-11-12T23:22:38.218261Z",
     "start_time": "2019-11-12T23:22:29.156503Z"
    }
   },
   "outputs": [
    {
     "name": "stdout",
     "output_type": "stream",
     "text": [
      "\n",
      "accuracy\n",
      "train average accuracy: 0.7007309941520468\n",
      "test average accuracy: 0.6769911504424779\n",
      "\n",
      "precision\n",
      "train average precision: 0.7721888495720051\n",
      "test average precision: 0.7270277418900793\n",
      "\n",
      "recall\n",
      "train average recall: 0.6021568627450979\n",
      "test average recall: 0.5968253968253968\n",
      "\n",
      "F-score\n",
      "train average F-score: 0.6663310731251346\n",
      "test average F-score: 0.6445374282210998\n",
      "\n",
      "AUC\n",
      "train average AUC: 0.6807404360345539\n",
      "test average AUC: 0.6606192711826515\n"
     ]
    }
   ],
   "source": [
    "train_accuarcy_ls=[]\n",
    "test_accuarcy_ls=[]\n",
    "train_precision_ls=[]\n",
    "test_precision_ls=[]\n",
    "train_recall_ls=[]\n",
    "test_recall_ls=[]\n",
    "train_F_score_ls=[]\n",
    "test_F_score_ls=[]\n",
    "train_AUC_ls=[]\n",
    "test_AUC_ls=[]\n",
    "for i in range(30):\n",
    "    #randomly select data\n",
    "    test_M=df[df[\"class\"] == 1].sample(frac=0.2, replace=False, random_state=None)\n",
    "    test_B=df[df[\"class\"] == 0].sample(frac=0.2, replace=False, random_state=None)\n",
    "    \n",
    "    test= pd.concat([test_M, test_B], axis = 0)\n",
    "    train=df.drop(index=test.index,axis=0)\n",
    "    \n",
    "    #extract training and test data\n",
    "    x_train=train.iloc[:,2:32]\n",
    "    x_test=test.iloc[:,2:32]\n",
    "    y_train = train[[\"class\"]]\n",
    "    y_test=test[[\"class\"]]\n",
    "    \n",
    "    # normalized features\n",
    "    x_train_normalized = preprocessing.normalize(x_train, norm='l2')\n",
    "    x_train_normalized= pd.DataFrame(x_train_normalized)\n",
    "    x_train_normalized.columns=['x1','x2','x3','x4','x5','x6','x7','x8','x9','x10','x11','x12','x13','x14','x15','x16','x17','x18','x19','x20','x21','x22','x23','x24','x25','x26','x27','x28','x29','x30']\n",
    "    x_train_normalized.index=x_train.index\n",
    "    \n",
    "    x_test_normalized = preprocessing.normalize(x_test, norm='l2')\n",
    "    x_test_normalized= pd.DataFrame(x_test_normalized)\n",
    "    x_test_normalized.columns=['x1','x2','x3','x4','x5','x6','x7','x8','x9','x10','x11','x12','x13','x14','x15','x16','x17','x18','x19','x20','x21','x22','x23','x24','x25','x26','x27','x28','x29','x30']\n",
    "    x_test_normalized.index=x_test.index\n",
    "    \n",
    "    #SpectralClustering fit_predict x\n",
    "    spectral = SpectralClustering(n_clusters=2, n_init=100, gamma=1.0, affinity='rbf')  \n",
    "    y_train_pred = spectral.fit_predict(x_train_normalized)\n",
    "    y_test_pred = spectral.fit_predict(x_test_normalized)\n",
    "    \n",
    "    #accuarcy\n",
    "    train_accuracy=accuracy_score(y_train,y_train_pred)\n",
    "    train_accuarcy_ls.append(train_accuracy)\n",
    "    test_accuracy=accuracy_score(y_test,y_test_pred)\n",
    "    test_accuarcy_ls.append(test_accuracy)\n",
    "    \n",
    "    #precision\n",
    "    train_precision=precision_score(y_train,y_train_pred)\n",
    "    train_precision_ls.append(train_precision)\n",
    "    test_precision=precision_score(y_test,y_test_pred)\n",
    "    test_precision_ls.append(test_precision)\n",
    "    \n",
    "    #recall\n",
    "    train_recall=recall_score(y_train,y_train_pred)\n",
    "    train_recall_ls.append(train_recall)\n",
    "    test_recall=recall_score(y_test,y_test_pred)\n",
    "    test_recall_ls.append(test_recall)\n",
    "    \n",
    "    #F-score\n",
    "    train_F_score=f1_score(y_train,y_train_pred)\n",
    "    train_F_score_ls.append(train_F_score)\n",
    "    test_F_score=f1_score(y_test,y_test_pred)\n",
    "    test_F_score_ls.append(test_F_score)\n",
    "    \n",
    "    #AUC\n",
    "    train_AUC=roc_auc_score(y_train,y_train_pred)\n",
    "    train_AUC_ls.append(train_AUC)\n",
    "    test_AUC=roc_auc_score(y_test,y_test_pred)\n",
    "    test_AUC_ls.append(test_AUC)\n",
    "    \n",
    "    \n",
    "print('\\naccuracy')\n",
    "print('train average accuracy:',np.mean(train_accuarcy_ls))   \n",
    "print('test average accuracy:',np.mean(test_accuarcy_ls)) \n",
    "print('\\nprecision')\n",
    "print('train average precision:',np.mean(train_precision_ls))   \n",
    "print('test average precision:',np.mean(test_precision_ls))\n",
    "print('\\nrecall')\n",
    "print('train average recall:',np.mean(train_recall_ls))   \n",
    "print('test average recall:',np.mean(test_recall_ls))\n",
    "print('\\nF-score')\n",
    "print('train average F-score:',np.mean(train_F_score_ls))   \n",
    "print('test average F-score:',np.mean(test_F_score_ls))\n",
    "print('\\nAUC')\n",
    "print('train average AUC:',np.mean(train_AUC_ls))   \n",
    "print('test average AUC:',np.mean(test_AUC_ls))\n"
   ]
  },
  {
   "cell_type": "code",
   "execution_count": 449,
   "metadata": {
    "ExecuteTime": {
     "end_time": "2019-11-12T23:22:38.508844Z",
     "start_time": "2019-11-12T23:22:38.222369Z"
    }
   },
   "outputs": [
    {
     "name": "stdout",
     "output_type": "stream",
     "text": [
      "train confusion matrix:\n",
      " [[281   5]\n",
      " [ 46 124]] \n",
      "\n"
     ]
    },
    {
     "data": {
      "image/png": "[encoded data removed]",
      "text/plain": [
       "<Figure size 432x288 with 1 Axes>"
      ]
     },
     "metadata": {
      "needs_background": "light"
     },
     "output_type": "display_data"
    },
    {
     "name": "stdout",
     "output_type": "stream",
     "text": [
      "test confusion matrix:\n",
      " [[69  2]\n",
      " [14 28]] \n",
      "\n"
     ]
    },
    {
     "data": {
      "image/png": "[encoded data removed]",
      "text/plain": [
       "<Figure size 432x288 with 1 Axes>"
      ]
     },
     "metadata": {
      "needs_background": "light"
     },
     "output_type": "display_data"
    }
   ],
   "source": [
    "#the confusion matrix on train data\n",
    "print('train confusion matrix:\\n',confusion_matrix(y_train,y_train_pred),'\\n')\n",
    "\n",
    "#show train ROC\n",
    "FP, TP, thresholds = roc_curve(y_train,y_train_pred)\n",
    "roc_auc = auc(FP, TP)\n",
    "\n",
    "plt.figure()\n",
    "plt.plot(FP, TP, lw=2,label='ROC curve (area = %0.2f)' % roc_auc)\n",
    "plt.plot([0, 1], [0, 1], lw=2)\n",
    "plt.xlim([0.0, 1.0])\n",
    "plt.ylim([0.0, 1.05])\n",
    "plt.xlabel('FP Rate')\n",
    "plt.ylabel('TP Rate')\n",
    "plt.title('train ROC')\n",
    "plt.legend(loc=\"lower right\")\n",
    "plt.show()\n",
    "\n",
    "#the confusion matrix on test data\n",
    "print('test confusion matrix:\\n',confusion_matrix(y_test,y_test_pred),'\\n')\n",
    "\n",
    "#show test ROC\n",
    "FP, TP, thresholds = roc_curve(y_test,y_test_pred)\n",
    "roc_auc = auc(FP, TP)\n",
    "\n",
    "plt.figure()\n",
    "plt.plot(FP, TP, lw=2,label='ROC curve (area = %0.2f)' % roc_auc)\n",
    "plt.plot([0, 1], [0, 1], lw=2)\n",
    "plt.xlim([0.0, 1.0])\n",
    "plt.ylim([0.0, 1.05])\n",
    "plt.xlabel('FP Rate')\n",
    "plt.ylabel('TP Rate')\n",
    "plt.title('test ROC')\n",
    "plt.legend(loc=\"lower right\")\n",
    "plt.show()"
   ]
  },
  {
   "cell_type": "markdown",
   "metadata": {},
   "source": [
    "<font color=black size=4 face=雅黑>(v) Answer: Compare three methods, Supervised learning on the full data set performs better than Semi-Supervised learning, because the model is not only well trained and the labels are provided by the experts. However, for semi-supervised learning, some of the labels are predicted by the classifier. It is apparent that the accuracy define by the experts are higher.For Unsupervised learning, it underperforms than Supervised learning because we according their similarity to classify them, but actually,they don't have same label.</font>"
   ]
  }
 ],
 "metadata": {
  "kernelspec": {
   "display_name": "Python 3",
   "language": "python",
   "name": "python3"
  },
  "language_info": {
   "codemirror_mode": {
    "name": "ipython",
    "version": 3
   },
   "file_extension": ".py",
   "mimetype": "text/x-python",
   "name": "python",
   "nbconvert_exporter": "python",
   "pygments_lexer": "ipython3",
   "version": "3.7.1"
  },
  "toc": {
   "base_numbering": 1,
   "nav_menu": {},
   "number_sections": true,
   "sideBar": true,
   "skip_h1_title": false,
   "title_cell": "Table of Contents",
   "title_sidebar": "Contents",
   "toc_cell": false,
   "toc_position": {},
   "toc_section_display": true,
   "toc_window_display": false
  }
 },
 "nbformat": 4,
 "nbformat_minor": 2
}
